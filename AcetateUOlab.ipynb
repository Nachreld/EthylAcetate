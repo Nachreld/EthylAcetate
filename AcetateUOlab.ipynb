{
 "cells": [
  {
   "cell_type": "code",
   "execution_count": 2,
   "metadata": {},
   "outputs": [],
   "source": [
    "import pandas as pd \n",
    "import numpy as np"
   ]
  },
  {
   "cell_type": "code",
   "execution_count": 19,
   "metadata": {},
   "outputs": [],
   "source": [
    "R = 8.314 #J/mol/K\n",
    "\n",
    "def E(k1,k2,T1,T2):\n",
    "    return -R/((1/T2)-(1/T1)) * np.log(k2/k1)\n",
    "\n",
    "def A(k,E,T):\n",
    "    return k/np.exp(-E/R/T)"
   ]
  },
  {
   "cell_type": "code",
   "execution_count": 30,
   "metadata": {},
   "outputs": [
    {
     "data": {
      "text/plain": [
       "0.03344986508975163"
      ]
     },
     "execution_count": 30,
     "metadata": {},
     "output_type": "execute_result"
    }
   ],
   "source": [
    "#A = ethyl acetate B = sodium hydroxide\n",
    "\n",
    "Fa0 = 5300/24/3600 #mol/day to mol/s\n",
    "Ca0 = 0.023 #mol/L\n",
    "Fb0 = 7950 #mol/day\n",
    "Cb0 = 0.046 #mol/L\n",
    "Xa = 0.96\n",
    "Vr = 80*1000 #m^3 to L\n",
    "\n",
    "k = Fa0*Xa/Vr/Ca0**2/(1-Xa)/(Cb0/Ca0-Xa)\n",
    "k"
   ]
  },
  {
   "cell_type": "code",
   "execution_count": 32,
   "metadata": {},
   "outputs": [
    {
     "data": {
      "text/plain": [
       "281.0023187637458"
      ]
     },
     "execution_count": 32,
     "metadata": {},
     "output_type": "execute_result"
    }
   ],
   "source": [
    "R = 8.314 #J/mol/K\n",
    "def T(A,k,E):\n",
    "    return -E/R/np.log(k/A)\n",
    "\n",
    "T = T(2.8e7,0.03344,48*1000)\n",
    "T"
   ]
  }
 ],
 "metadata": {
  "kernelspec": {
   "display_name": "Python 3",
   "language": "python",
   "name": "python3"
  },
  "language_info": {
   "codemirror_mode": {
    "name": "ipython",
    "version": 3
   },
   "file_extension": ".py",
   "mimetype": "text/x-python",
   "name": "python",
   "nbconvert_exporter": "python",
   "pygments_lexer": "ipython3",
   "version": "3.7.4"
  }
 },
 "nbformat": 4,
 "nbformat_minor": 2
}
