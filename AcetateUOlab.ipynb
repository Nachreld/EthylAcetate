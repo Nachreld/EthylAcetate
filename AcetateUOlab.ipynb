{
 "cells": [
  {
   "cell_type": "code",
   "execution_count": 32,
   "metadata": {},
   "outputs": [],
   "source": [
    "import pandas as pd \n",
    "import numpy as np"
   ]
  },
  {
   "cell_type": "code",
   "execution_count": 33,
   "metadata": {},
   "outputs": [],
   "source": [
    "R = 8.314 #J/mol/K\n",
    "\n",
    "def E(k,T):\n",
    "    k1,k2 = k\n",
    "    T1,T2 = T\n",
    "    return -R/((1/T2)-(1/T1)) * np.log(k2/k1)\n",
    "\n",
    "def A(k,E,T):\n",
    "    return k/np.exp(-E/R/T)\n",
    "\n",
    "def k(A,E,T):\n",
    "    return A*np.exp(-E/R/T)"
   ]
  },
  {
   "cell_type": "code",
   "execution_count": 34,
   "metadata": {},
   "outputs": [
    {
     "name": "stdout",
     "output_type": "stream",
     "text": [
      "[0.00610349 0.00127248]\n",
      "54892.1103391957\n",
      "5573390.395194087\n"
     ]
    }
   ],
   "source": [
    "data = pd.read_csv(\"Kvalues/KbyTemp.csv\")\n",
    "ks = data[\"kavg (s^-1)\"].to_numpy()\n",
    "Ts = data[\"Temperature (°C)\"].to_numpy()\n",
    "Ts += 273\n",
    "ks = np.array([ks[0],ks[1]])\n",
    "Ts = np.array([Ts[0],Ts[1]])\n",
    "print(ks)\n",
    "\n",
    "Eave = E(ks,Ts)\n",
    "print(Eave)\n",
    "As = np.zeros(2)\n",
    "for i in range(len(ks)):\n",
    "    As[i] = A(ks[i],Eave,Ts[i])\n",
    "      \n",
    "As = np.mean(As)\n",
    "print(As)"
   ]
  },
  {
   "cell_type": "code",
   "execution_count": 35,
   "metadata": {},
   "outputs": [
    {
     "name": "stdout",
     "output_type": "stream",
     "text": [
      "0.03344986508975163\n",
      "348.7556622635035\n",
      "75.7556622635035\n"
     ]
    }
   ],
   "source": [
    "#A = ethyl acetate B = sodium hydroxide\n",
    "\n",
    "Fa0 = 5300/24/3600 #mol/day to mol/s\n",
    "Ca0 = 0.023 #mol/L\n",
    "Fb0 = 7950 #mol/day\n",
    "Cb0 = 0.046 #mol/L\n",
    "Xa = 0.96\n",
    "Vr = 80*1000 #m^3 to L\n",
    "\n",
    "k = Fa0*Xa/Vr/Ca0**2/(1-Xa)/(Cb0/Ca0-Xa)\n",
    "print(k)\n",
    "\n",
    "R = 8.314 #J/mol/K\n",
    "def T(A,k,E):\n",
    "    return -E/R/np.log(k/A)\n",
    "\n",
    "Twant = T(As,k,Eave)\n",
    "print(Twant)\n",
    "print(Twant-273)"
   ]
  },
  {
   "cell_type": "code",
   "execution_count": 31,
   "metadata": {},
   "outputs": [
    {
     "data": {
      "text/plain": [
       "'Twant = np.zeros(3)\\nfor i in range(len(ks)):\\n    Twant[i] = T(As[i],k,E[i])\\n    \\nprint(Twant)'"
      ]
     },
     "execution_count": 31,
     "metadata": {},
     "output_type": "execute_result"
    }
   ],
   "source": [
    "'''Ea = np.zeros(3)\n",
    "ks = np.array([[ks[0],ks[1]],[ks[0],ks[2]],[ks[1],ks[2]]])\n",
    "Ts = np.array([[Ts[0],Ts[1]],[Ts[0],Ts[2]],[Ts[1],Ts[2]]])\n",
    "\n",
    "for i in range(len(ks)):\n",
    "    Ea[i] = E(ks[i],Ts[i])\n",
    "    \n",
    "print(Ea)\n",
    "Eave = np.mean(Ea)\n",
    "\n",
    "'''\n",
    "\n",
    "'''As = np.zeros(3)\n",
    "#print(ks1)\n",
    "#print(Ea)\n",
    "#print(Ts1)\n",
    "for i in range(len(ks)):\n",
    "    As[i] = A(ks1[i],Ea[i],Ts1[i])\n",
    "    \n",
    "print(As)\n",
    "Asa = np.mean(As)\n",
    "print(Asa)'''\n",
    "\n",
    "'''Twant = np.zeros(3)\n",
    "for i in range(len(ks)):\n",
    "    Twant[i] = T(As[i],k,E[i])\n",
    "    \n",
    "print(Twant)'''"
   ]
  },
  {
   "cell_type": "code",
   "execution_count": null,
   "metadata": {},
   "outputs": [],
   "source": []
  }
 ],
 "metadata": {
  "kernelspec": {
   "display_name": "Python 3",
   "language": "python",
   "name": "python3"
  },
  "language_info": {
   "codemirror_mode": {
    "name": "ipython",
    "version": 3
   },
   "file_extension": ".py",
   "mimetype": "text/x-python",
   "name": "python",
   "nbconvert_exporter": "python",
   "pygments_lexer": "ipython3",
   "version": "3.7.4"
  }
 },
 "nbformat": 4,
 "nbformat_minor": 2
}
