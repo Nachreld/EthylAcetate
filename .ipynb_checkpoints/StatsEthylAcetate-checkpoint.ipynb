{
 "cells": [
  {
   "cell_type": "code",
   "execution_count": 12,
   "metadata": {},
   "outputs": [],
   "source": [
    "import scipy.stats as stats\n",
    "import numpy as np"
   ]
  },
  {
   "cell_type": "code",
   "execution_count": 13,
   "metadata": {},
   "outputs": [],
   "source": [
    "def stat(k):\n",
    "    k1,k2,k3 = k\n",
    "    n = 3\n",
    "    t = stats.t.ppf(0.95,n-1)\n",
    "    σ = stats.tstd(k)\n",
    "    μ = stats.tmean(k)\n",
    "    cl = t*σ/n**0.5\n",
    "    #print(μ, \"+/-\", cl)\n",
    "    return [μ, cl]\n",
    "\n",
    "k47 = np.array([0.005997313902,0.006313459829,0.005999697926])"
   ]
  },
  {
   "cell_type": "code",
   "execution_count": 14,
   "metadata": {},
   "outputs": [
    {
     "data": {
      "text/plain": [
       "[0.006103490552333334, 0.0003065602166769992]"
      ]
     },
     "execution_count": 14,
     "metadata": {},
     "output_type": "execute_result"
    }
   ],
   "source": [
    "stat(k47)"
   ]
  }
 ],
 "metadata": {
  "kernelspec": {
   "display_name": "Python 3",
   "language": "python",
   "name": "python3"
  },
  "language_info": {
   "codemirror_mode": {
    "name": "ipython",
    "version": 3
   },
   "file_extension": ".py",
   "mimetype": "text/x-python",
   "name": "python",
   "nbconvert_exporter": "python",
   "pygments_lexer": "ipython3",
   "version": "3.7.4"
  }
 },
 "nbformat": 4,
 "nbformat_minor": 2
}
